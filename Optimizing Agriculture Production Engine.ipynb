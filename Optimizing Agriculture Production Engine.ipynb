{
 "cells": [
  {
   "cell_type": "code",
   "execution_count": 1,
   "id": "0a954a1a",
   "metadata": {},
   "outputs": [],
   "source": [
    "# for manipulations...\n",
    "import pandas as pd\n",
    "import numpy as np\n",
    "\n",
    "# for data visualization...\n",
    "import matplotlib as plt\n",
    "import seaborn as sns\n",
    "\n",
    "# for interactivity...\n",
    "from ipywidgets import interact "
   ]
  },
  {
   "cell_type": "code",
   "execution_count": 2,
   "id": "39898f85",
   "metadata": {},
   "outputs": [],
   "source": [
    "# read the dataset\n",
    "data = pd.read_csv(\"data.csv\")"
   ]
  },
  {
   "cell_type": "code",
   "execution_count": 3,
   "id": "84ea29fc",
   "metadata": {},
   "outputs": [
    {
     "data": {
      "text/html": [
       "<div>\n",
       "<style scoped>\n",
       "    .dataframe tbody tr th:only-of-type {\n",
       "        vertical-align: middle;\n",
       "    }\n",
       "\n",
       "    .dataframe tbody tr th {\n",
       "        vertical-align: top;\n",
       "    }\n",
       "\n",
       "    .dataframe thead th {\n",
       "        text-align: right;\n",
       "    }\n",
       "</style>\n",
       "<table border=\"1\" class=\"dataframe\">\n",
       "  <thead>\n",
       "    <tr style=\"text-align: right;\">\n",
       "      <th></th>\n",
       "      <th>N</th>\n",
       "      <th>P</th>\n",
       "      <th>K</th>\n",
       "      <th>temperature</th>\n",
       "      <th>humidity</th>\n",
       "      <th>ph</th>\n",
       "      <th>rainfall</th>\n",
       "      <th>label</th>\n",
       "    </tr>\n",
       "  </thead>\n",
       "  <tbody>\n",
       "    <tr>\n",
       "      <th>0</th>\n",
       "      <td>90</td>\n",
       "      <td>42</td>\n",
       "      <td>43</td>\n",
       "      <td>20.879744</td>\n",
       "      <td>82.002744</td>\n",
       "      <td>6.502985</td>\n",
       "      <td>202.935536</td>\n",
       "      <td>rice</td>\n",
       "    </tr>\n",
       "    <tr>\n",
       "      <th>1</th>\n",
       "      <td>85</td>\n",
       "      <td>58</td>\n",
       "      <td>41</td>\n",
       "      <td>21.770462</td>\n",
       "      <td>80.319644</td>\n",
       "      <td>7.038096</td>\n",
       "      <td>226.655537</td>\n",
       "      <td>rice</td>\n",
       "    </tr>\n",
       "    <tr>\n",
       "      <th>2</th>\n",
       "      <td>60</td>\n",
       "      <td>55</td>\n",
       "      <td>44</td>\n",
       "      <td>23.004459</td>\n",
       "      <td>82.320763</td>\n",
       "      <td>7.840207</td>\n",
       "      <td>263.964248</td>\n",
       "      <td>rice</td>\n",
       "    </tr>\n",
       "    <tr>\n",
       "      <th>3</th>\n",
       "      <td>74</td>\n",
       "      <td>35</td>\n",
       "      <td>40</td>\n",
       "      <td>26.491096</td>\n",
       "      <td>80.158363</td>\n",
       "      <td>6.980401</td>\n",
       "      <td>242.864034</td>\n",
       "      <td>rice</td>\n",
       "    </tr>\n",
       "    <tr>\n",
       "      <th>4</th>\n",
       "      <td>78</td>\n",
       "      <td>42</td>\n",
       "      <td>42</td>\n",
       "      <td>20.130175</td>\n",
       "      <td>81.604873</td>\n",
       "      <td>7.628473</td>\n",
       "      <td>262.717340</td>\n",
       "      <td>rice</td>\n",
       "    </tr>\n",
       "  </tbody>\n",
       "</table>\n",
       "</div>"
      ],
      "text/plain": [
       "    N   P   K  temperature   humidity        ph    rainfall label\n",
       "0  90  42  43    20.879744  82.002744  6.502985  202.935536  rice\n",
       "1  85  58  41    21.770462  80.319644  7.038096  226.655537  rice\n",
       "2  60  55  44    23.004459  82.320763  7.840207  263.964248  rice\n",
       "3  74  35  40    26.491096  80.158363  6.980401  242.864034  rice\n",
       "4  78  42  42    20.130175  81.604873  7.628473  262.717340  rice"
      ]
     },
     "execution_count": 3,
     "metadata": {},
     "output_type": "execute_result"
    }
   ],
   "source": [
    "data.head() # take a look into over data"
   ]
  },
  {
   "cell_type": "code",
   "execution_count": 4,
   "id": "3c232847",
   "metadata": {},
   "outputs": [
    {
     "data": {
      "text/plain": [
       "N              0\n",
       "P              0\n",
       "K              0\n",
       "temperature    0\n",
       "humidity       0\n",
       "ph             0\n",
       "rainfall       0\n",
       "label          0\n",
       "dtype: int64"
      ]
     },
     "execution_count": 4,
     "metadata": {},
     "output_type": "execute_result"
    }
   ],
   "source": [
    "#lets check any missing value in our data set\n",
    "data.isnull().sum()"
   ]
  },
  {
   "cell_type": "code",
   "execution_count": 5,
   "id": "2de4079c",
   "metadata": {},
   "outputs": [
    {
     "data": {
      "text/plain": [
       "(2200, 8)"
      ]
     },
     "execution_count": 5,
     "metadata": {},
     "output_type": "execute_result"
    }
   ],
   "source": [
    "#lets check shape of our Data\n",
    "data.shape"
   ]
  },
  {
   "cell_type": "code",
   "execution_count": 6,
   "id": "0872673a",
   "metadata": {},
   "outputs": [
    {
     "data": {
      "text/plain": [
       "kidneybeans    100\n",
       "watermelon     100\n",
       "coffee         100\n",
       "pigeonpeas     100\n",
       "lentil         100\n",
       "orange         100\n",
       "jute           100\n",
       "rice           100\n",
       "grapes         100\n",
       "mothbeans      100\n",
       "muskmelon      100\n",
       "apple          100\n",
       "blackgram      100\n",
       "mango          100\n",
       "papaya         100\n",
       "maize          100\n",
       "coconut        100\n",
       "chickpea       100\n",
       "banana         100\n",
       "mungbean       100\n",
       "cotton         100\n",
       "pomegranate    100\n",
       "Name: label, dtype: int64"
      ]
     },
     "execution_count": 6,
     "metadata": {},
     "output_type": "execute_result"
    }
   ],
   "source": [
    "# lets yake a look on our Cropes \n",
    "data['label'].value_counts()"
   ]
  },
  {
   "cell_type": "code",
   "execution_count": 7,
   "id": "75b0ff74",
   "metadata": {},
   "outputs": [
    {
     "name": "stdout",
     "output_type": "stream",
     "text": [
      "Average Ratio of Nitrogen in the Soil:50.55\n",
      "Average Ratio of Phosphorous in the Soil:53.36\n",
      "Average Ratio of Potassiam in the Soil:48.15\n",
      "Average Temperature in Celcius:25.62\n",
      "Average Relative Humidity in % :71.48\n",
      "Average ph value for the Soil:6.47\n",
      "Average RainFall in 1mm:103.46\n"
     ]
    }
   ],
   "source": [
    "#Lets check the summery for all cropes\n",
    "\n",
    "print('Average Ratio of Nitrogen in the Soil:{0:.2f}'.format(data['N'].mean()))\n",
    "print('Average Ratio of Phosphorous in the Soil:{0:.2f}'.format(data['P'].mean()))\n",
    "print('Average Ratio of Potassiam in the Soil:{0:.2f}'.format(data['K'].mean()))\n",
    "print('Average Temperature in Celcius:{0:.2f}'.format(data['temperature'].mean()))\n",
    "print('Average Relative Humidity in % :{0:.2f}'.format(data['humidity'].mean()))\n",
    "print('Average ph value for the Soil:{0:.2f}'.format(data['ph'].mean()))\n",
    "print('Average RainFall in 1mm:{0:.2f}'.format(data['rainfall'].mean()))"
   ]
  },
  {
   "cell_type": "code",
   "execution_count": 8,
   "id": "5665ae89",
   "metadata": {},
   "outputs": [
    {
     "data": {
      "application/vnd.jupyter.widget-view+json": {
       "model_id": "5187f98456b84c61ad0a69e8bc281876",
       "version_major": 2,
       "version_minor": 0
      },
      "text/plain": [
       "interactive(children=(Dropdown(description='crops', options=('kidneybeans', 'watermelon', 'coffee', 'pigeonpea…"
      ]
     },
     "metadata": {},
     "output_type": "display_data"
    }
   ],
   "source": [
    "#Lets check the summery Statistics for all cropes\n",
    "\n",
    "@interact\n",
    "def summary (crops=list(data['label'].value_counts().index)):\n",
    "    x=data[data['label']==crops]\n",
    "    print(\"-----------------------------------------------\")\n",
    "    print('Statistics for Nitrogen')\n",
    "    print('Minimum Nitrogen Required :',x['N'].min())\n",
    "    print('Average Nitrogen Required :',x['N'].mean())\n",
    "    print('Maximum Nitrogen Required :',x['N'].max())\n",
    "    print(\"-----------------------------------------------\")\n",
    "    print('Statistics for Phosphorous')\n",
    "    print('Minimum Phosphorous Required :',x['P'].min())\n",
    "    print('Average Phosphorous Required :',x['P'].mean())\n",
    "    print('Maximum Phosphorous Required :',x['P'].max())\n",
    "    print(\"-----------------------------------------------\")\n",
    "    print('Statistics for Potassium')\n",
    "    print('Minimum Potassium Required :',x['K'].min())\n",
    "    print('Average Potassium Required :',x['K'].mean())\n",
    "    print('Maximum Potassium Required :',x['K'].max())\n",
    "    print(\"-----------------------------------------------\")\n",
    "    print('Statistics for Temperature')\n",
    "    print('Minimum Temperature Required : {0:.2f}'.format(x['temperature'].min()))\n",
    "    print('Average Temperature Required : {0:.2f}'.format(x['temperature'].mean()))\n",
    "    print('Maximum Temperature Required : {0:.2f}'.format(x['temperature'].max()))\n",
    "    print(\"-----------------------------------------------\")\n",
    "    print('Statistics for Humadity')\n",
    "    print('Minimum Humidity Required : {0:.2f}'.format(x['humidity'].min()))\n",
    "    print('Average Humidity Required : {0:.2f}'.format(x['humidity'].mean()))\n",
    "    print('Maximum Humidity Required : {0:.2f}'.format(x['humidity'].max()))\n",
    "    print(\"-----------------------------------------------\")\n",
    "    print('Statistics for PH')\n",
    "    print('Minimum PH Required : {0:.2f}'.format(x['ph'].min()))\n",
    "    print('Average PH Required : {0:.2f}'.format(x['ph'].mean()))\n",
    "    print('Maximum PH Required : {0:.2f}'.format(x['ph'].max()))\n",
    "    print(\"-----------------------------------------------\")\n",
    "    print('Statistics for RainFall')\n",
    "    print('Minimum RainFall Required : {0:.2f}'.format(x['rainfall'].min()))\n",
    "    print('Average RainFall Required : {0:.2f}'.format(x['rainfall'].mean()))\n",
    "    print('Maximum RainFall Required : {0:.2f}'.format(x['rainfall'].max()))\n",
    "    print(\"-----------------------------------------------\")"
   ]
  },
  {
   "cell_type": "code",
   "execution_count": null,
   "id": "c1efea5c",
   "metadata": {},
   "outputs": [],
   "source": [
    "#Lets check the Average Requirements for each crope with Avergae Conditions \n",
    "\n",
    "@interact\n",
    "def compare(conditions=['N','P','K','temperature','humidity','ph','rainfall']):\n",
    "    print('Average value for',conditions,'is {0:.2f}'.format(data[conditions].mean()))\n",
    "    print(\"-----------------------------------------------\")\n",
    "    print('Rice : {0:.2f}'.format(data[(data['label']=='rice')]['conditions'].mean()))\n",
    "    print('Black Grams : {0:.2f}'.format(data[(data['label']=='blackgram')]['conditions'].mean())"
   ]
  },
  {
   "cell_type": "code",
   "execution_count": null,
   "id": "779d2761",
   "metadata": {},
   "outputs": [],
   "source": []
  }
 ],
 "metadata": {
  "kernelspec": {
   "display_name": "Python 3",
   "language": "python",
   "name": "python3"
  },
  "language_info": {
   "codemirror_mode": {
    "name": "ipython",
    "version": 3
   },
   "file_extension": ".py",
   "mimetype": "text/x-python",
   "name": "python",
   "nbconvert_exporter": "python",
   "pygments_lexer": "ipython3",
   "version": "3.8.8"
  }
 },
 "nbformat": 4,
 "nbformat_minor": 5
}
